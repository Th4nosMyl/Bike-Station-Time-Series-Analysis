{
 "cells": [
  {
   "cell_type": "markdown",
   "metadata": {},
   "source": [
    "### Εργασία του Φοιτητή Μυλωνά Αθανασίου ΑΜ: e21118\n"
   ]
  },
  {
   "cell_type": "code",
   "execution_count": 1,
   "metadata": {},
   "outputs": [],
   "source": [
    "# Εισαγωγή βιβλιοθηκών\n",
    "import pandas as pd\n",
    "import numpy as np\n",
    "import seaborn as sns\n",
    "import sklearn as sk"
   ]
  },
  {
   "cell_type": "markdown",
   "metadata": {},
   "source": [
    "## Εισάγουμε τα δεδομένα για πρώτη φορά\n"
   ]
  },
  {
   "cell_type": "code",
   "execution_count": 2,
   "metadata": {},
   "outputs": [
    {
     "data": {
      "text/html": [
       "<div>\n",
       "<style scoped>\n",
       "    .dataframe tbody tr th:only-of-type {\n",
       "        vertical-align: middle;\n",
       "    }\n",
       "\n",
       "    .dataframe tbody tr th {\n",
       "        vertical-align: top;\n",
       "    }\n",
       "\n",
       "    .dataframe thead th {\n",
       "        text-align: right;\n",
       "    }\n",
       "</style>\n",
       "<table border=\"1\" class=\"dataframe\">\n",
       "  <thead>\n",
       "    <tr style=\"text-align: right;\">\n",
       "      <th></th>\n",
       "      <th>TripId</th>\n",
       "      <th>StartTime</th>\n",
       "      <th>EndTime</th>\n",
       "      <th>StartStationId</th>\n",
       "      <th>EndStationId</th>\n",
       "    </tr>\n",
       "  </thead>\n",
       "  <tbody>\n",
       "    <tr>\n",
       "      <th>0</th>\n",
       "      <td>2616540</td>\n",
       "      <td>2023-02-01 00:28:04</td>\n",
       "      <td>2023-02-01 00:45:18</td>\n",
       "      <td>1</td>\n",
       "      <td>0</td>\n",
       "    </tr>\n",
       "    <tr>\n",
       "      <th>1</th>\n",
       "      <td>2616644</td>\n",
       "      <td>2023-02-01 00:34:08</td>\n",
       "      <td>2023-02-01 00:45:49</td>\n",
       "      <td>1</td>\n",
       "      <td>0</td>\n",
       "    </tr>\n",
       "    <tr>\n",
       "      <th>2</th>\n",
       "      <td>2616730</td>\n",
       "      <td>2023-02-01 00:39:18</td>\n",
       "      <td>2023-02-01 00:52:06</td>\n",
       "      <td>1</td>\n",
       "      <td>0</td>\n",
       "    </tr>\n",
       "    <tr>\n",
       "      <th>3</th>\n",
       "      <td>2617099</td>\n",
       "      <td>2023-02-01 00:59:02</td>\n",
       "      <td>2023-02-01 01:08:31</td>\n",
       "      <td>0</td>\n",
       "      <td>1</td>\n",
       "    </tr>\n",
       "    <tr>\n",
       "      <th>4</th>\n",
       "      <td>2617103</td>\n",
       "      <td>2023-02-01 00:59:35</td>\n",
       "      <td>2023-02-01 01:08:19</td>\n",
       "      <td>0</td>\n",
       "      <td>1</td>\n",
       "    </tr>\n",
       "  </tbody>\n",
       "</table>\n",
       "</div>"
      ],
      "text/plain": [
       "    TripId            StartTime              EndTime  StartStationId  \\\n",
       "0  2616540  2023-02-01 00:28:04  2023-02-01 00:45:18               1   \n",
       "1  2616644  2023-02-01 00:34:08  2023-02-01 00:45:49               1   \n",
       "2  2616730  2023-02-01 00:39:18  2023-02-01 00:52:06               1   \n",
       "3  2617099  2023-02-01 00:59:02  2023-02-01 01:08:31               0   \n",
       "4  2617103  2023-02-01 00:59:35  2023-02-01 01:08:19               0   \n",
       "\n",
       "   EndStationId  \n",
       "0             0  \n",
       "1             0  \n",
       "2             0  \n",
       "3             1  \n",
       "4             1  "
      ]
     },
     "execution_count": 2,
     "metadata": {},
     "output_type": "execute_result"
    }
   ],
   "source": [
    "#Φορτώνουμε τα δεδομένα\n",
    "rawData = pd.read_csv('/home/th4nos/Projects/DataScience/CourseAssignment/Data/data.csv')\n",
    "\n",
    "# Φτιάχνω ένα αντίγραφο των δεδομένων για λόγους ασφαλείας\n",
    "data = rawData.copy()\n",
    "#Εμφανίζουμε τα πρώτα 5 δείγματα\n",
    "data.head()"
   ]
  },
  {
   "cell_type": "markdown",
   "metadata": {},
   "source": [
    "### Σαν πρώτη όψη\n",
    "\n",
    "Το dataset περιλαμβάνει πέντε στήλες: το μοναδικό αναγνωριστικό κάθε διαδρομής (TripId), την ώρα εκκίνησης (StartTime), την ώρα επιστροφής (EndTime), το αναγνωριστικό του σταθμού αφετηρίας (StartStationId) και το αναγνωριστικό του σταθμού προορισμού (EndStationId). Κάθε εγγραφή καταγράφει μια διαδρομή ποδηλάτου με πληροφορίες για τον χρόνο και τους σταθμούς εκκίνησης και προορισμού.\n"
   ]
  },
  {
   "cell_type": "markdown",
   "metadata": {},
   "source": [
    "#### Προετοιμασία\n",
    "\n",
    "Στην συνέχεια θα κάνουμε έναν πρώτο έλεγχο των δεδομένων για να δούμε τι περιέχουν και πως είναι οργανωμένα.\n"
   ]
  },
  {
   "cell_type": "code",
   "execution_count": 3,
   "metadata": {},
   "outputs": [
    {
     "name": "stdout",
     "output_type": "stream",
     "text": [
      "<class 'pandas.core.frame.DataFrame'>\n",
      "RangeIndex: 8636 entries, 0 to 8635\n",
      "Data columns (total 5 columns):\n",
      " #   Column          Non-Null Count  Dtype \n",
      "---  ------          --------------  ----- \n",
      " 0   TripId          8636 non-null   int64 \n",
      " 1   StartTime       8636 non-null   object\n",
      " 2   EndTime         8636 non-null   object\n",
      " 3   StartStationId  8636 non-null   int64 \n",
      " 4   EndStationId    8636 non-null   int64 \n",
      "dtypes: int64(3), object(2)\n",
      "memory usage: 337.5+ KB\n"
     ]
    }
   ],
   "source": [
    "#Εμφανίζουμε τις πληροφορίες των δεδομένων\n",
    "data.info()"
   ]
  },
  {
   "cell_type": "markdown",
   "metadata": {},
   "source": [
    "Με την εμφάνισει των πληροφοριών σχετικά για τι τύπο δεδομένων περιέχει κάθε στήλη, μπορούμε να καταλάβουμε τι είδους επεξεργασία θα χρειαστεί να κάνουμε. Στην συνέχεια θα ελέγξουμε αν υπάρχουν κενές τιμές στο dataset όπως επίσης και αν υπάρχουν διπλές εγγραφές.\n"
   ]
  },
  {
   "cell_type": "code",
   "execution_count": 4,
   "metadata": {},
   "outputs": [
    {
     "data": {
      "text/plain": [
       "TripId            0\n",
       "StartTime         0\n",
       "EndTime           0\n",
       "StartStationId    0\n",
       "EndStationId      0\n",
       "dtype: int64"
      ]
     },
     "execution_count": 4,
     "metadata": {},
     "output_type": "execute_result"
    }
   ],
   "source": [
    "# Ελέγχουμε για τυχόν απουσιάζουσες τιμές\n",
    "data.isnull().sum()"
   ]
  },
  {
   "cell_type": "code",
   "execution_count": 5,
   "metadata": {},
   "outputs": [
    {
     "data": {
      "text/plain": [
       "0"
      ]
     },
     "execution_count": 5,
     "metadata": {},
     "output_type": "execute_result"
    }
   ],
   "source": [
    "# Ελέγχουμε για τυχόν διπλές τιμές στο TripId\n",
    "data.duplicated(subset=['TripId']).sum()"
   ]
  },
  {
   "cell_type": "code",
   "execution_count": 6,
   "metadata": {},
   "outputs": [
    {
     "data": {
      "text/plain": [
       "False"
      ]
     },
     "execution_count": 6,
     "metadata": {},
     "output_type": "execute_result"
    }
   ],
   "source": [
    "# Επίσης ελέγχουμε για το άμα το StartStationId και EndStationId έχουν και τα δύο ίδιες τιμές\n",
    "dupleCheck = (data['StartStationId'] == data['EndStationId']).all()\n",
    "dupleCheck"
   ]
  },
  {
   "cell_type": "markdown",
   "metadata": {},
   "source": [
    "Τελικά δεν υπάρχουν κενές τιμές ή διπλές εγγραφές στο dataset.\n"
   ]
  },
  {
   "cell_type": "markdown",
   "metadata": {},
   "source": [
    "#### Σαν μια πρώτη αλλάγη θα μετατρέψουμε τις στήλες StartTime και EndTime σε datetime αντικείμενα από object για να μπορούμε να κάνουμε εύκολα υπολογισμούς μεταξύ τους.\n"
   ]
  },
  {
   "cell_type": "code",
   "execution_count": 7,
   "metadata": {},
   "outputs": [
    {
     "name": "stdout",
     "output_type": "stream",
     "text": [
      "<class 'pandas.core.frame.DataFrame'>\n",
      "RangeIndex: 8636 entries, 0 to 8635\n",
      "Data columns (total 5 columns):\n",
      " #   Column          Non-Null Count  Dtype         \n",
      "---  ------          --------------  -----         \n",
      " 0   TripId          8636 non-null   int64         \n",
      " 1   StartTime       8636 non-null   datetime64[ns]\n",
      " 2   EndTime         8636 non-null   datetime64[ns]\n",
      " 3   StartStationId  8636 non-null   int64         \n",
      " 4   EndStationId    8636 non-null   int64         \n",
      "dtypes: datetime64[ns](2), int64(3)\n",
      "memory usage: 337.5 KB\n"
     ]
    }
   ],
   "source": [
    "# Mετατρέπουμε τις στήλες 'StartTime' και 'EndTime' σε datetime\n",
    "data['StartTime'] = pd.to_datetime(data['StartTime'])\n",
    "data['EndTime'] = pd.to_datetime(data['EndTime'])\n",
    "data.info()"
   ]
  },
  {
   "cell_type": "markdown",
   "metadata": {},
   "source": [
    "### Στην εκφώνηση της άσκησης μας εξηγεί πως:\n",
    "\n",
    "**\"Η τιμή 1 σε κάποια από τις στήλες StartStationId ή EndStationId υποδηλώνει το σταθμό που μας ενδιαφέρει. Αντίθετα, όπου αναγράφεται η τιμή 0 σε κάποια από τις στήλες αυτές, αυτή υποδηλώνει κάποιον άλλον σταθμό (̸ = 1) που μας είναι αδιάφορος.\"**\n",
    "\n",
    "Επομένως θα πρέπει να φιλτράρουμε τα δεδομένα μας ώστε να περιέχουν μόνο τις διαδρομές που μας ενδιαφέρουν.\n"
   ]
  },
  {
   "cell_type": "code",
   "execution_count": 8,
   "metadata": {},
   "outputs": [
    {
     "data": {
      "text/html": [
       "<div>\n",
       "<style scoped>\n",
       "    .dataframe tbody tr th:only-of-type {\n",
       "        vertical-align: middle;\n",
       "    }\n",
       "\n",
       "    .dataframe tbody tr th {\n",
       "        vertical-align: top;\n",
       "    }\n",
       "\n",
       "    .dataframe thead th {\n",
       "        text-align: right;\n",
       "    }\n",
       "</style>\n",
       "<table border=\"1\" class=\"dataframe\">\n",
       "  <thead>\n",
       "    <tr style=\"text-align: right;\">\n",
       "      <th></th>\n",
       "      <th>TripId</th>\n",
       "      <th>StartTime</th>\n",
       "      <th>EndTime</th>\n",
       "      <th>StartStationId</th>\n",
       "      <th>EndStationId</th>\n",
       "    </tr>\n",
       "  </thead>\n",
       "  <tbody>\n",
       "    <tr>\n",
       "      <th>0</th>\n",
       "      <td>2616540</td>\n",
       "      <td>2023-02-01 00:28:04</td>\n",
       "      <td>2023-02-01 00:45:18</td>\n",
       "      <td>1</td>\n",
       "      <td>0</td>\n",
       "    </tr>\n",
       "    <tr>\n",
       "      <th>1</th>\n",
       "      <td>2616644</td>\n",
       "      <td>2023-02-01 00:34:08</td>\n",
       "      <td>2023-02-01 00:45:49</td>\n",
       "      <td>1</td>\n",
       "      <td>0</td>\n",
       "    </tr>\n",
       "    <tr>\n",
       "      <th>2</th>\n",
       "      <td>2616730</td>\n",
       "      <td>2023-02-01 00:39:18</td>\n",
       "      <td>2023-02-01 00:52:06</td>\n",
       "      <td>1</td>\n",
       "      <td>0</td>\n",
       "    </tr>\n",
       "    <tr>\n",
       "      <th>3</th>\n",
       "      <td>2617099</td>\n",
       "      <td>2023-02-01 00:59:02</td>\n",
       "      <td>2023-02-01 01:08:31</td>\n",
       "      <td>0</td>\n",
       "      <td>1</td>\n",
       "    </tr>\n",
       "    <tr>\n",
       "      <th>4</th>\n",
       "      <td>2617103</td>\n",
       "      <td>2023-02-01 00:59:35</td>\n",
       "      <td>2023-02-01 01:08:19</td>\n",
       "      <td>0</td>\n",
       "      <td>1</td>\n",
       "    </tr>\n",
       "    <tr>\n",
       "      <th>...</th>\n",
       "      <td>...</td>\n",
       "      <td>...</td>\n",
       "      <td>...</td>\n",
       "      <td>...</td>\n",
       "      <td>...</td>\n",
       "    </tr>\n",
       "    <tr>\n",
       "      <th>8631</th>\n",
       "      <td>3988772</td>\n",
       "      <td>2023-02-28 23:29:08</td>\n",
       "      <td>2023-02-28 23:33:32</td>\n",
       "      <td>1</td>\n",
       "      <td>0</td>\n",
       "    </tr>\n",
       "    <tr>\n",
       "      <th>8632</th>\n",
       "      <td>3988863</td>\n",
       "      <td>2023-02-28 23:33:01</td>\n",
       "      <td>2023-02-28 23:36:30</td>\n",
       "      <td>0</td>\n",
       "      <td>1</td>\n",
       "    </tr>\n",
       "    <tr>\n",
       "      <th>8633</th>\n",
       "      <td>3988901</td>\n",
       "      <td>2023-02-28 23:35:32</td>\n",
       "      <td>2023-02-28 23:40:22</td>\n",
       "      <td>1</td>\n",
       "      <td>0</td>\n",
       "    </tr>\n",
       "    <tr>\n",
       "      <th>8634</th>\n",
       "      <td>3988930</td>\n",
       "      <td>2023-02-28 23:36:58</td>\n",
       "      <td>2023-02-28 23:45:17</td>\n",
       "      <td>0</td>\n",
       "      <td>1</td>\n",
       "    </tr>\n",
       "    <tr>\n",
       "      <th>8635</th>\n",
       "      <td>3989403</td>\n",
       "      <td>2023-02-28 23:59:04</td>\n",
       "      <td>2023-03-01 00:20:25</td>\n",
       "      <td>1</td>\n",
       "      <td>0</td>\n",
       "    </tr>\n",
       "  </tbody>\n",
       "</table>\n",
       "<p>8636 rows × 5 columns</p>\n",
       "</div>"
      ],
      "text/plain": [
       "       TripId           StartTime             EndTime  StartStationId  \\\n",
       "0     2616540 2023-02-01 00:28:04 2023-02-01 00:45:18               1   \n",
       "1     2616644 2023-02-01 00:34:08 2023-02-01 00:45:49               1   \n",
       "2     2616730 2023-02-01 00:39:18 2023-02-01 00:52:06               1   \n",
       "3     2617099 2023-02-01 00:59:02 2023-02-01 01:08:31               0   \n",
       "4     2617103 2023-02-01 00:59:35 2023-02-01 01:08:19               0   \n",
       "...       ...                 ...                 ...             ...   \n",
       "8631  3988772 2023-02-28 23:29:08 2023-02-28 23:33:32               1   \n",
       "8632  3988863 2023-02-28 23:33:01 2023-02-28 23:36:30               0   \n",
       "8633  3988901 2023-02-28 23:35:32 2023-02-28 23:40:22               1   \n",
       "8634  3988930 2023-02-28 23:36:58 2023-02-28 23:45:17               0   \n",
       "8635  3989403 2023-02-28 23:59:04 2023-03-01 00:20:25               1   \n",
       "\n",
       "      EndStationId  \n",
       "0                0  \n",
       "1                0  \n",
       "2                0  \n",
       "3                1  \n",
       "4                1  \n",
       "...            ...  \n",
       "8631             0  \n",
       "8632             1  \n",
       "8633             0  \n",
       "8634             1  \n",
       "8635             0  \n",
       "\n",
       "[8636 rows x 5 columns]"
      ]
     },
     "execution_count": 8,
     "metadata": {},
     "output_type": "execute_result"
    }
   ],
   "source": [
    "# Φιλτράρουμε τα δεδομένα με βάση το άμα η StartStationId ή η EndStationId είναι 1\n",
    "filteredData = data[(data['StartStationId'] == 1) | (data['EndStationId'] == 1)]\n",
    "filteredData"
   ]
  },
  {
   "cell_type": "markdown",
   "metadata": {},
   "source": [
    "#### Για να κάνουμε ανάλυση χρονοσειρών θα χρειαστεί να επιλέξουμε ένα χρονικό διάστημα. Στην συγκεκριμένη περίπτωση θα διαλέξουμε το παράδειγμα που δίνει και στην εκφώνηση που είναι οι **\"T = 2 ώρες\"**. Αφού ομαδοποιήσουμε τις εκκινήσεις και τις επιστροφές σε κάθε διάστημα **T**, υπολογίζουμε τη ζήτηση ως τη διαφορά μεταξύ των ποδηλάτων που επέστρεψαν και αυτών που παραδόθηκαν εντός του διαστήματος **T**. Με αυτόν τον τρόπο, δημιουργούμε μια χρονοσειρά ζήτησης ποδηλάτων.\n"
   ]
  },
  {
   "cell_type": "code",
   "execution_count": 9,
   "metadata": {},
   "outputs": [
    {
     "data": {
      "text/html": [
       "<div>\n",
       "<style scoped>\n",
       "    .dataframe tbody tr th:only-of-type {\n",
       "        vertical-align: middle;\n",
       "    }\n",
       "\n",
       "    .dataframe tbody tr th {\n",
       "        vertical-align: top;\n",
       "    }\n",
       "\n",
       "    .dataframe thead th {\n",
       "        text-align: right;\n",
       "    }\n",
       "</style>\n",
       "<table border=\"1\" class=\"dataframe\">\n",
       "  <thead>\n",
       "    <tr style=\"text-align: right;\">\n",
       "      <th></th>\n",
       "      <th>Time</th>\n",
       "      <th>Demand</th>\n",
       "    </tr>\n",
       "  </thead>\n",
       "  <tbody>\n",
       "    <tr>\n",
       "      <th>0</th>\n",
       "      <td>2023-02-01 00:00:00</td>\n",
       "      <td>-1</td>\n",
       "    </tr>\n",
       "    <tr>\n",
       "      <th>1</th>\n",
       "      <td>2023-02-01 02:00:00</td>\n",
       "      <td>0</td>\n",
       "    </tr>\n",
       "    <tr>\n",
       "      <th>2</th>\n",
       "      <td>2023-02-01 04:00:00</td>\n",
       "      <td>1</td>\n",
       "    </tr>\n",
       "    <tr>\n",
       "      <th>3</th>\n",
       "      <td>2023-02-01 06:00:00</td>\n",
       "      <td>-10</td>\n",
       "    </tr>\n",
       "    <tr>\n",
       "      <th>4</th>\n",
       "      <td>2023-02-01 08:00:00</td>\n",
       "      <td>-7</td>\n",
       "    </tr>\n",
       "    <tr>\n",
       "      <th>...</th>\n",
       "      <td>...</td>\n",
       "      <td>...</td>\n",
       "    </tr>\n",
       "    <tr>\n",
       "      <th>331</th>\n",
       "      <td>2023-02-28 14:00:00</td>\n",
       "      <td>4</td>\n",
       "    </tr>\n",
       "    <tr>\n",
       "      <th>332</th>\n",
       "      <td>2023-02-28 16:00:00</td>\n",
       "      <td>8</td>\n",
       "    </tr>\n",
       "    <tr>\n",
       "      <th>333</th>\n",
       "      <td>2023-02-28 18:00:00</td>\n",
       "      <td>6</td>\n",
       "    </tr>\n",
       "    <tr>\n",
       "      <th>334</th>\n",
       "      <td>2023-02-28 20:00:00</td>\n",
       "      <td>4</td>\n",
       "    </tr>\n",
       "    <tr>\n",
       "      <th>335</th>\n",
       "      <td>2023-02-28 22:00:00</td>\n",
       "      <td>10</td>\n",
       "    </tr>\n",
       "  </tbody>\n",
       "</table>\n",
       "<p>336 rows × 2 columns</p>\n",
       "</div>"
      ],
      "text/plain": [
       "                   Time  Demand\n",
       "0   2023-02-01 00:00:00      -1\n",
       "1   2023-02-01 02:00:00       0\n",
       "2   2023-02-01 04:00:00       1\n",
       "3   2023-02-01 06:00:00     -10\n",
       "4   2023-02-01 08:00:00      -7\n",
       "..                  ...     ...\n",
       "331 2023-02-28 14:00:00       4\n",
       "332 2023-02-28 16:00:00       8\n",
       "333 2023-02-28 18:00:00       6\n",
       "334 2023-02-28 20:00:00       4\n",
       "335 2023-02-28 22:00:00      10\n",
       "\n",
       "[336 rows x 2 columns]"
      ]
     },
     "execution_count": 9,
     "metadata": {},
     "output_type": "execute_result"
    }
   ],
   "source": [
    "# Ορίζουμε το χρονικό διάστημα που θέλουμε να εξετάσουμε\n",
    "T = '2h'  # Ορισμός του χρονικού διαστήματος σε 2 ώρες\n",
    "\n",
    "# Δημιουργία της χρονοσειράς για την εκκίνηση από τον ενδιαφερόμενο σταθμό\n",
    "startSeries = filteredData[filteredData['StartStationId'] == 1].set_index('StartTime').resample(T).count()['TripId']\n",
    "\n",
    "# Δημιουργία της χρονοσειράς για τον τερματισμό στον ενδιαφερόμενο σταθμό\n",
    "endSeries = filteredData[filteredData['EndStationId'] == 1].set_index('EndTime').resample(T).count()['TripId']\n",
    "\n",
    "# Υπολογισμός ζήτησης ποδηλάτων στον ενδιαφερόμενο σταθμό & Δημιουργία της χρονοσειράς\n",
    "demandSeries = endSeries.sub(startSeries, fill_value=0)\n",
    "\n",
    "# Εκτύπωση της χρονοσειράς\n",
    "demandSeries = pd.DataFrame({'Time': demandSeries.index, 'Demand': demandSeries.values})\n",
    "demandSeries"
   ]
  },
  {
   "cell_type": "markdown",
   "metadata": {},
   "source": [
    "### Χωρισμός των δεδομένων σε train και test set\n",
    "Θα χωρίσουμε τα δεδομένα σε δύο μέρη: το πρώτο 70% για εκπαίδευση και το υπόλοιπο 30% για έλεγχο."
   ]
  },
  {
   "cell_type": "code",
   "execution_count": 10,
   "metadata": {},
   "outputs": [],
   "source": [
    "# Ορίζουμε το ποσοστό των δεδομένων που θα χρησιμοποιήσουμε για το training\n",
    "trainSize = 0.7\n",
    "\n",
    "# Υπολογίζουμε τον αριθμό των παρατηρήσεων για εκπαίδευση\n",
    "trainSize = int(len(demandSeries) * trainSize)\n",
    "\n",
    "# Διαχωρίζουμε τα δεδομένα σε train και test\n",
    "trainData = demandSeries[:trainSize]\n",
    "testData = demandSeries[trainSize:]"
   ]
  },
  {
   "cell_type": "markdown",
   "metadata": {},
   "source": [
    "### Εφαρμογή μεθόδων πρόβλεψης χρονοσειρών\n"
   ]
  }
 ],
 "metadata": {
  "kernelspec": {
   "display_name": "stock_ds",
   "language": "python",
   "name": "python3"
  },
  "language_info": {
   "codemirror_mode": {
    "name": "ipython",
    "version": 3
   },
   "file_extension": ".py",
   "mimetype": "text/x-python",
   "name": "python",
   "nbconvert_exporter": "python",
   "pygments_lexer": "ipython3",
   "version": "3.12.2"
  }
 },
 "nbformat": 4,
 "nbformat_minor": 2
}
